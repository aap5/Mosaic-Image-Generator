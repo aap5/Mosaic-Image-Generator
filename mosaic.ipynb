{
 "cells": [
  {
   "cell_type": "markdown",
   "metadata": {},
   "source": [
    "# Section 1: Understanding an Image\n",
    "\n",
    "A computer represents an image as a 2D grid of **pixels** where each pixel is a single color.  Here is a tiny image **zoomed at 50x** that shows the nine pixels:\n",
    "\n",
    "![Color](sample-50x.png)\n",
    "\n",
    "The actual image size of a 9 pixel image is really small (here it is): ![sample image](sample.png).  We will need to use Python to help us process large images!\n",
    "\n",
    "\n",
    "## Section 1.1: Image Coordinate System\n",
    "\n",
    "We can refer to any pixel in the image by it's coordinates -- the `x` and `y` position of each pixel.  The **top-left** pixel is (0, 0) and we increase `x` by going \"right\" and increase `y` by going \"down\".\n",
    "\n",
    "- `(0, 0)` is the BLUE pixel in the top-left corner,\n",
    "- `(1, 0)` is the middle WHITE pixel in the top row (since `x=1` moves to the right one),\n",
    "- `(2, 0)` is the RED pixel in the top-right corner.\n",
    "\n",
    "Moving down, the middle row has a `y` value of `1` fo all its pixels:\n",
    "\n",
    "- `(0, 1)` is the GREEN pixel -- it's \"over zero and down one\",\n",
    "- `(1, 1)` is the BLACK pixel in the center, and\n",
    "- `(2, 1)` is the WHITE pixel in the middle-right of the image.\n",
    "\n",
    "Finally, the last row:\n",
    "\n",
    "- `(0, 2)` is the WHITE pixel in the bottom left,\n",
    "- `(1, 2)` is the ILLINI ORANGE pixel,\n",
    "- `(2, 2)` is the ILLINI BLUE pixel\n",
    "\n",
    "\n",
    "## Section 1.2: The `DISCOVERY` library!\n",
    "\n",
    "In DISCOVERY, we developed a library to help you with image data.  To use it:\n",
    "\n",
    "- You must `import DISCOVERY` (all caps, because DISCOVERY!)\n",
    "- Use `image = DISCOVERY.loadImage(\"sample.png\")` to load the `sample.png` image into `image`\n",
    "\n",
    "Try that out in the cell below:"
   ]
  },
  {
   "cell_type": "code",
   "execution_count": 1,
   "metadata": {},
   "outputs": [],
   "source": [
    "import DISCOVERY\n",
    "image = DISCOVERY.loadImage(\"sample.png\")"
   ]
  },
  {
   "cell_type": "markdown",
   "metadata": {},
   "source": [
    "To access any specific pixel, you need to \"index into\" the `image` with the `x` and `y` coordinate as `image[x][y]`.  For example:\n",
    "\n",
    "- `image[0][0]` accesses the top-left pixel; in the `sample.png` image, it's the BLUE pixel\n",
    "- `image[2][0]` accesses `x=2, y=0`; in the `sample.png` image, it's the RED pixel\n",
    "- ...etc...\n",
    "\n",
    "In the cell below, access the GREEN pixel and store it in the variable `green_pixel`:"
   ]
  },
  {
   "cell_type": "code",
   "execution_count": 2,
   "metadata": {},
   "outputs": [
    {
     "data": {
      "text/plain": [
       "array([  0, 255,   0])"
      ]
     },
     "execution_count": 2,
     "metadata": {},
     "output_type": "execute_result"
    }
   ],
   "source": [
    "green_pixel = image[0][1]\n",
    "green_pixel"
   ]
  },
  {
   "cell_type": "code",
   "execution_count": 3,
   "metadata": {},
   "outputs": [
    {
     "name": "stdout",
     "output_type": "stream",
     "text": [
      "✅ `green_pixel` looks like a pixel!\n",
      "✅ `green_pixel` is a green pixel!\n",
      "🎉 All tests passed! 🎉\n"
     ]
    }
   ],
   "source": [
    "# == TEST CASE for Section 1.2 ==\n",
    "# - Checks to see if `green_pixel` is storing a green pixel\n",
    "DISCOVERY.run_test_case_1b(green_pixel)"
   ]
  },
  {
   "cell_type": "markdown",
   "metadata": {},
   "source": [
    "<hr>"
   ]
  },
  {
   "cell_type": "markdown",
   "metadata": {},
   "source": [
    "# Section 2: Accessing Color Data\n",
    "\n",
    "Every color visible on a computer screen is made up of the three **primary colors of light** -- red, green, and blue.  Your monitor displays color by varying the intensity of the red light, green light, and blue light emitted for every pixel on your screen.  Since images are primary displayed on computer screens, the **default color space is to represent colors as red, green, and blue**.\n",
    "\n",
    "When you have a pixel, you will always see the three components.  For example, the contents of `green_pixel` is `[0, 255, 0]`:\n",
    "- The first `0` means we have 0 / 255 (0%) **red** light\n",
    "- The second `255` means we have 255 / 255 (100%) **green** light\n",
    "- The final `0` means we have 0 / 255 (0%) **blue** light\n",
    "\n",
    "## Section 2.1: Accessing Illini Orange\n",
    "\n",
    "Using the `image` you loaded in Section 1, load the Illini Orange pixel into `illini_orange_pixel`:"
   ]
  },
  {
   "cell_type": "code",
   "execution_count": 4,
   "metadata": {},
   "outputs": [
    {
     "data": {
      "text/plain": [
       "array([255,  85,  46])"
      ]
     },
     "execution_count": 4,
     "metadata": {},
     "output_type": "execute_result"
    }
   ],
   "source": [
    "illini_orange_pixel = image[1][2]\n",
    "illini_orange_pixel"
   ]
  },
  {
   "cell_type": "markdown",
   "metadata": {},
   "source": [
    "Now we can access the red, green, and blue components by their value in the list.  Once you have a pixel:\n",
    "\n",
    "- `pixel[0]` is the red color,\n",
    "- `pixel[1]` is the green color, and\n",
    "- `pixel[2]` is the blue color.\n",
    "\n",
    "Find the red, green, and blue values of the `illini_orange_pixel`:"
   ]
  },
  {
   "cell_type": "code",
   "execution_count": 5,
   "metadata": {},
   "outputs": [
    {
     "data": {
      "text/plain": [
       "255"
      ]
     },
     "execution_count": 5,
     "metadata": {},
     "output_type": "execute_result"
    }
   ],
   "source": [
    "red = illini_orange_pixel[0]\n",
    "red"
   ]
  },
  {
   "cell_type": "code",
   "execution_count": 6,
   "metadata": {},
   "outputs": [
    {
     "data": {
      "text/plain": [
       "85"
      ]
     },
     "execution_count": 6,
     "metadata": {},
     "output_type": "execute_result"
    }
   ],
   "source": [
    "green = illini_orange_pixel[1]\n",
    "green"
   ]
  },
  {
   "cell_type": "code",
   "execution_count": 7,
   "metadata": {},
   "outputs": [
    {
     "data": {
      "text/plain": [
       "46"
      ]
     },
     "execution_count": 7,
     "metadata": {},
     "output_type": "execute_result"
    }
   ],
   "source": [
    "blue = illini_orange_pixel[2]\n",
    "blue"
   ]
  },
  {
   "cell_type": "markdown",
   "metadata": {},
   "source": [
    "## Section 2.2: Average Pixel Strategy\n",
    "\n",
    "To create the mosaic, we will need to find the **average** pixel color of everyone one of your tile images.  You can do this either of two ways:\n",
    "1. Using Python to find the average of all the individual pixels,\n",
    "2. Creating a DataFrame to store all of the individual pixels and using `pandas` to find the average\n",
    "\n",
    "Since you are an expert in working with DataFrames, we will go for Option #2!  However, you can try #1 if you are up for a challenge!\n",
    "\n",
    "\n",
    "## Section 2.3: Finding the Height and Width\n",
    "\n",
    "All of our images will be much larger than the 3x3 `sample.png` image -- and we don't know the size in advance -- so we need to find the `height` of an image.  Luckily, this is easy:\n",
    "\n",
    "- `len(image)` will tell us how many columns are in the image (since the first index is the `x` value) -- this is our `width`\n",
    "- `len(image[0])` will tell us how many pixels are in the first column (since images are always a rectangle) -- this is our `height`\n",
    "\n",
    "Find the `height` and `width` of your `sample.png` image stored in `image` from Section 1:"
   ]
  },
  {
   "cell_type": "code",
   "execution_count": 8,
   "metadata": {},
   "outputs": [
    {
     "data": {
      "text/plain": [
       "3"
      ]
     },
     "execution_count": 8,
     "metadata": {},
     "output_type": "execute_result"
    }
   ],
   "source": [
    "width = len(image)\n",
    "width"
   ]
  },
  {
   "cell_type": "code",
   "execution_count": 9,
   "metadata": {},
   "outputs": [
    {
     "data": {
      "text/plain": [
       "3"
      ]
     },
     "execution_count": 9,
     "metadata": {},
     "output_type": "execute_result"
    }
   ],
   "source": [
    "height = len(image[0])\n",
    "height"
   ]
  },
  {
   "cell_type": "markdown",
   "metadata": {},
   "source": [
    "## Section 2.4: Converting Pixel Data to a DataFrame - First Row\n",
    "\n",
    "Once you have the height and width, you must **visit every pixel** to add it to a DataFrame.  This is **VERY SIMILAR** to doing a simulation, except that we want to visit different pixels to add them to the DataFrame instead of randomly generating data.\n",
    "\n",
    "To start this, write a simulation except include three key changes:\n",
    "\n",
    "1. Instead of simulating something 10,000 times, run your loop for only however many pixels are in the first row (is that `width` or `height`)?\n",
    "\n",
    "2. Instead of using `for i in ...`, since we're changing the value of `x`, use `for x in ...` to be more descriptive.\n",
    "\n",
    "3. Instead of simulating a random number, the three real world variables should be:\n",
    "    * the **red pixel value as `r`**,\n",
    "    * the **green pixel value as `g`**,\n",
    "    * the **blue pixel value `b`**,\n",
    "    * the **`x` value**, and\n",
    "    * the **`y` value** (always `0` for now, but we will update it later)  \n",
    "(You will probably have six lines of code in the top of your simulation; one to get the pixel followed by five to get `r`, `g`, `b`, `x`, and `y`).\n",
    "\n",
    "Write your modified simulation code that will store **all of the pixels in the first row** of the image in `image`.\n",
    "- Each row must have a value for `r`, `g`, `b`, `x`, and `y`.\n",
    "- Store your DataFrame in the variable `df`."
   ]
  },
  {
   "cell_type": "code",
   "execution_count": 10,
   "metadata": {},
   "outputs": [],
   "source": [
    "import pandas as pd\n",
    "data = []\n",
    "for x in range(width):\n",
    "   y = 0\n",
    "   r = image[x][y][0]\n",
    "   g = image[x][y][1]\n",
    "   b = image[x][y][2]\n",
    "   d = {\"r\":r, \"g\":g, \"b\":b ,\"x\":x, \"y\":y}\n",
    "   data.append(d)\n",
    "df = pd.DataFrame(data)\n"
   ]
  },
  {
   "cell_type": "code",
   "execution_count": 11,
   "metadata": {},
   "outputs": [
    {
     "data": {
      "text/html": [
       "<div>\n",
       "<style scoped>\n",
       "    .dataframe tbody tr th:only-of-type {\n",
       "        vertical-align: middle;\n",
       "    }\n",
       "\n",
       "    .dataframe tbody tr th {\n",
       "        vertical-align: top;\n",
       "    }\n",
       "\n",
       "    .dataframe thead th {\n",
       "        text-align: right;\n",
       "    }\n",
       "</style>\n",
       "<table border=\"1\" class=\"dataframe\">\n",
       "  <thead>\n",
       "    <tr style=\"text-align: right;\">\n",
       "      <th></th>\n",
       "      <th>r</th>\n",
       "      <th>g</th>\n",
       "      <th>b</th>\n",
       "      <th>x</th>\n",
       "      <th>y</th>\n",
       "    </tr>\n",
       "  </thead>\n",
       "  <tbody>\n",
       "    <tr>\n",
       "      <th>0</th>\n",
       "      <td>0</td>\n",
       "      <td>0</td>\n",
       "      <td>255</td>\n",
       "      <td>0</td>\n",
       "      <td>0</td>\n",
       "    </tr>\n",
       "    <tr>\n",
       "      <th>1</th>\n",
       "      <td>255</td>\n",
       "      <td>255</td>\n",
       "      <td>255</td>\n",
       "      <td>1</td>\n",
       "      <td>0</td>\n",
       "    </tr>\n",
       "    <tr>\n",
       "      <th>2</th>\n",
       "      <td>255</td>\n",
       "      <td>0</td>\n",
       "      <td>0</td>\n",
       "      <td>2</td>\n",
       "      <td>0</td>\n",
       "    </tr>\n",
       "  </tbody>\n",
       "</table>\n",
       "</div>"
      ],
      "text/plain": [
       "     r    g    b  x  y\n",
       "0    0    0  255  0  0\n",
       "1  255  255  255  1  0\n",
       "2  255    0    0  2  0"
      ]
     },
     "execution_count": 11,
     "metadata": {},
     "output_type": "execute_result"
    }
   ],
   "source": [
    "df"
   ]
  },
  {
   "cell_type": "code",
   "execution_count": 12,
   "metadata": {},
   "outputs": [
    {
     "name": "stdout",
     "output_type": "stream",
     "text": [
      "✅ `df` contains the correct number of observations.\n",
      "✅ `df` contains the expected data!\n",
      "🎉 All tests passed! 🎉\n"
     ]
    }
   ],
   "source": [
    "# == TEST CASE for Section 2.4 ==\n",
    "# - Checks to ensure the DataFrame contains the correct variables and pixel data\n",
    "DISCOVERY.run_test_case_2d(df)"
   ]
  },
  {
   "cell_type": "markdown",
   "metadata": {},
   "source": [
    "## Section 2.5: Converting Pixel Data to a DataFrame - All Rows\n",
    "\n",
    "Awesome -- you've done it for one row, now just do it for all rows!\n",
    "\n",
    "- Your existing code completely works for the first row!\n",
    "- Now, you need to go through every row one-by-one.  You can add a second `for`-loop **inside** of your first `for`-loop for each row. This will visit all of the rows for `x=0`, then all of the rows for `x=1`, and so on...\n",
    "\n",
    "\n",
    "### HINT: Double For-Loop\n",
    "\n",
    "You should have two for-loops right next to each other -- one `x` loop and one `y` loop -- and **ALL** of the functionality for the loop should be inside BOTH of them.  (No code needs to be indented into just one for-loop, every line of code in your for-loop should be double-indented to be inside of the rows **and** columns loops.)\n",
    "\n",
    "\n",
    "### Nerd Out!\n",
    "\n",
    "Write your modified simulation code that will store **all of the pixels** of the image in `image`.\n",
    "- Each row must have a value for `r`, `g`, `b`, `x`, and `y`.\n",
    "- Store your DataFrame in the variable `df`.\n",
    "- (This code will be very similar to Section 2.4 code.)"
   ]
  },
  {
   "cell_type": "code",
   "execution_count": 13,
   "metadata": {},
   "outputs": [],
   "source": [
    "import pandas as pd\n",
    "data = []\n",
    "for x in range(width):\n",
    "   for y in range(height):\n",
    "      r = image[x][y][0]\n",
    "      g = image[x][y][1]\n",
    "      b = image[x][y][2]\n",
    "      d = {\"r\":r, \"g\":g, \"b\":b ,\"x\":x, \"y\":y}\n",
    "      data.append(d)\n",
    "df = pd.DataFrame(data)"
   ]
  },
  {
   "cell_type": "code",
   "execution_count": 14,
   "metadata": {},
   "outputs": [
    {
     "data": {
      "text/html": [
       "<div>\n",
       "<style scoped>\n",
       "    .dataframe tbody tr th:only-of-type {\n",
       "        vertical-align: middle;\n",
       "    }\n",
       "\n",
       "    .dataframe tbody tr th {\n",
       "        vertical-align: top;\n",
       "    }\n",
       "\n",
       "    .dataframe thead th {\n",
       "        text-align: right;\n",
       "    }\n",
       "</style>\n",
       "<table border=\"1\" class=\"dataframe\">\n",
       "  <thead>\n",
       "    <tr style=\"text-align: right;\">\n",
       "      <th></th>\n",
       "      <th>r</th>\n",
       "      <th>g</th>\n",
       "      <th>b</th>\n",
       "      <th>x</th>\n",
       "      <th>y</th>\n",
       "    </tr>\n",
       "  </thead>\n",
       "  <tbody>\n",
       "    <tr>\n",
       "      <th>0</th>\n",
       "      <td>0</td>\n",
       "      <td>0</td>\n",
       "      <td>255</td>\n",
       "      <td>0</td>\n",
       "      <td>0</td>\n",
       "    </tr>\n",
       "    <tr>\n",
       "      <th>1</th>\n",
       "      <td>0</td>\n",
       "      <td>255</td>\n",
       "      <td>0</td>\n",
       "      <td>0</td>\n",
       "      <td>1</td>\n",
       "    </tr>\n",
       "    <tr>\n",
       "      <th>2</th>\n",
       "      <td>255</td>\n",
       "      <td>255</td>\n",
       "      <td>255</td>\n",
       "      <td>0</td>\n",
       "      <td>2</td>\n",
       "    </tr>\n",
       "    <tr>\n",
       "      <th>3</th>\n",
       "      <td>255</td>\n",
       "      <td>255</td>\n",
       "      <td>255</td>\n",
       "      <td>1</td>\n",
       "      <td>0</td>\n",
       "    </tr>\n",
       "    <tr>\n",
       "      <th>4</th>\n",
       "      <td>0</td>\n",
       "      <td>0</td>\n",
       "      <td>0</td>\n",
       "      <td>1</td>\n",
       "      <td>1</td>\n",
       "    </tr>\n",
       "    <tr>\n",
       "      <th>5</th>\n",
       "      <td>255</td>\n",
       "      <td>85</td>\n",
       "      <td>46</td>\n",
       "      <td>1</td>\n",
       "      <td>2</td>\n",
       "    </tr>\n",
       "    <tr>\n",
       "      <th>6</th>\n",
       "      <td>255</td>\n",
       "      <td>0</td>\n",
       "      <td>0</td>\n",
       "      <td>2</td>\n",
       "      <td>0</td>\n",
       "    </tr>\n",
       "    <tr>\n",
       "      <th>7</th>\n",
       "      <td>255</td>\n",
       "      <td>255</td>\n",
       "      <td>255</td>\n",
       "      <td>2</td>\n",
       "      <td>1</td>\n",
       "    </tr>\n",
       "    <tr>\n",
       "      <th>8</th>\n",
       "      <td>19</td>\n",
       "      <td>41</td>\n",
       "      <td>75</td>\n",
       "      <td>2</td>\n",
       "      <td>2</td>\n",
       "    </tr>\n",
       "  </tbody>\n",
       "</table>\n",
       "</div>"
      ],
      "text/plain": [
       "     r    g    b  x  y\n",
       "0    0    0  255  0  0\n",
       "1    0  255    0  0  1\n",
       "2  255  255  255  0  2\n",
       "3  255  255  255  1  0\n",
       "4    0    0    0  1  1\n",
       "5  255   85   46  1  2\n",
       "6  255    0    0  2  0\n",
       "7  255  255  255  2  1\n",
       "8   19   41   75  2  2"
      ]
     },
     "execution_count": 14,
     "metadata": {},
     "output_type": "execute_result"
    }
   ],
   "source": [
    "df"
   ]
  },
  {
   "cell_type": "code",
   "execution_count": 15,
   "metadata": {},
   "outputs": [
    {
     "name": "stdout",
     "output_type": "stream",
     "text": [
      "✅ `df` contains the correct number of observations.\n",
      "✅ `df` contains the expected data!\n",
      "🎉 All tests passed! 🎉\n"
     ]
    }
   ],
   "source": [
    "# == TEST CASE for Section 2.5 ==\n",
    "# - Checks to ensure the DataFrame contains the correct variables and pixel data\n",
    "DISCOVERY.run_test_case_2e(df)"
   ]
  },
  {
   "cell_type": "markdown",
   "metadata": {},
   "source": [
    "<hr>"
   ]
  },
  {
   "cell_type": "markdown",
   "metadata": {},
   "source": [
    "# Section 3: Creating a ImageToDataFrame Function\n",
    "\n",
    "Now, put everything you've done together into a **function**.\n",
    "\n",
    "- The `loadImageToDataFrame` function takes the name of a file as `fileName`.\n",
    "- You must return a DataFrame that contains the image data.\n",
    "\n",
    "*(You've already done this in the previous sections, you just need to put it inside of a function and return the DataFrame.)*"
   ]
  },
  {
   "cell_type": "code",
   "execution_count": 16,
   "metadata": {},
   "outputs": [],
   "source": [
    "def loadImageToDataFrame(fileName):\n",
    "  data = []\n",
    "  for x in range(width):\n",
    "    for y in range(height):\n",
    "      r = image[x][y][0]\n",
    "      g = image[x][y][1]\n",
    "      b = image[x][y][2]\n",
    "      d = {\"r\":r, \"g\":g, \"b\":b ,\"x\":x, \"y\":y}\n",
    "      data.append(d)\n",
    "  df = pd.DataFrame(data)\n",
    "  return df"
   ]
  },
  {
   "cell_type": "code",
   "execution_count": 17,
   "metadata": {},
   "outputs": [
    {
     "name": "stdout",
     "output_type": "stream",
     "text": [
      "✅ `df` looks good!\n",
      "🎉 All tests passed! 🎉\n"
     ]
    }
   ],
   "source": [
    "# == TEST CASE for Section 3 ==\n",
    "# - Checks to ensure the DataFrame contains the correct variables and pixel data\n",
    "DISCOVERY.run_test_case_3(loadImageToDataFrame)"
   ]
  },
  {
   "cell_type": "markdown",
   "metadata": {},
   "source": [
    "<hr>"
   ]
  },
  {
   "cell_type": "markdown",
   "metadata": {},
   "source": [
    "# Section 4: Find the Average Color of an Image\n",
    "\n",
    "Given a image (see Section 1 and 2) to remind yourself of the format , find the **overall average color of the image** by finding the average red color, average green color, and average blue color.\n",
    "\n",
    "Write this in the function `findAverageColor` below.  Since this is an image and not a DataFrame, you will need to sum up all the red values, green values, and blue values.  You must return the **average color as a dictionary** with the values:\n",
    "- `avg_r`, for the average red color,\n",
    "- `avg_g`, for the average green color,\n",
    "- `avg_b`, for the average blue color"
   ]
  },
  {
   "cell_type": "code",
   "execution_count": 18,
   "metadata": {},
   "outputs": [],
   "source": [
    "\n",
    "def findAverageImageColor(image):\n",
    "  r = 0\n",
    "  g = 0\n",
    "  b = 0\n",
    "\n",
    "  width = len(image)\n",
    "  height = len(image[0])\n",
    "  for x in range(width):\n",
    "    for y in range(height):\n",
    "      r += image[x][y][0]\n",
    "      g += image[x][y][1]\n",
    "      b += image[x][y][2]\n",
    "  avg_r = r/(width * height)\n",
    "  avg_b = b/(width * height)\n",
    "  avg_g = g/(width * height)\n",
    "  d = {\"avg_r\":avg_r, \"avg_g\":avg_g, \"avg_b\":avg_b }\n",
    "  return d\n"
   ]
  },
  {
   "cell_type": "code",
   "execution_count": 19,
   "metadata": {},
   "outputs": [
    {
     "name": "stdout",
     "output_type": "stream",
     "text": [
      "✅ Dictionary contain the key `avg_r`.\n",
      "✅ Dictionary contain the key `avg_g`.\n",
      "✅ Dictionary contain the key `avg_b`.\n",
      "✅ Looks good!\n",
      "🎉 All tests passed! 🎉\n"
     ]
    }
   ],
   "source": [
    "# == TEST CASE for Section 4 ==\n",
    "# - Checks to ensure the DataFrame contains the correct variables and pixel data\n",
    "DISCOVERY.run_test_case_4(findAverageImageColor)"
   ]
  },
  {
   "cell_type": "markdown",
   "metadata": {},
   "source": [
    "<hr>"
   ]
  },
  {
   "cell_type": "markdown",
   "metadata": {},
   "source": [
    "# Section 5: Finding the Average Color of Your Tile Images\n",
    "\n",
    "Before beginning the programming, you should have set up a directory called `tiles` that contains all of your tile images.  If you haven't done that, you need to do that now.\n",
    "\n",
    "To create an image mosaic, we need to find the average pixel color of every one of our tile images so that we can know the best tile image to use when we begin to mosaic our image.  The code below is already complete and does the following:\n",
    "\n",
    "- Goes through each image file in your `tiles` directory,\n",
    "- Finds the average pixel color of each image using your `loadImageToDataFrame` function from Section 3 and your `findAverageColor` function from Section 4,\n",
    "- Finally, creates a new DataFrame `df_tiles` with the average color of each image and returns that DataFrame.\n",
    "\n",
    "*Make sure to run this code -- we'll need it later!*"
   ]
  },
  {
   "cell_type": "code",
   "execution_count": 20,
   "metadata": {},
   "outputs": [],
   "source": [
    "def createTilesDataFrame(path):\n",
    "  data = []\n",
    "\n",
    "  # Loop through all images in the `path` directory:\n",
    "  for tileImageFileName in DISCOVERY.listTileImagesInPath(path):\n",
    "    # Load the image as a DataFrame and find the average color:\n",
    "    image = DISCOVERY.loadImage(tileImageFileName)\n",
    "    averageColor = findAverageImageColor(image)\n",
    "\n",
    "    # Store the fileName and average colors in a dictionary:\n",
    "    d = { \"fileName\": tileImageFileName, \"r\": averageColor[\"avg_r\"], \"g\": averageColor[\"avg_g\"], \"b\": averageColor[\"avg_b\"] }\n",
    "    data.append(d)\n",
    "\n",
    "  # Create the `df_tiles` DataFrame:\n",
    "  df_tiles = pd.DataFrame(data)\n",
    "  return df_tiles\n"
   ]
  },
  {
   "cell_type": "markdown",
   "metadata": {},
   "source": [
    "<hr>"
   ]
  },
  {
   "cell_type": "markdown",
   "metadata": {},
   "source": [
    "# Section 6: Splitting Up Your Base Image\n",
    "\n",
    "To mosaic an image, we must split the base image into small regions to be replaced with the tile images.  To accomplish this, we need a function that will **find the average color of a small region of an image**.\n",
    "\n",
    "- In our `sample.png` (from Section 1), we might need the color of just a 2x2 square from the 3x3 image.\n",
    "- In `findAverageImageColor` you already found the average color of the full image.\n",
    "- Now you just need to find the average image color of the subset of the image!\n",
    "\n",
    "\n",
    "Create a function `findAverageImageColorInBox` that finds the average image color of a box region of the image starting at (`x`, `y`) and spanning `width` pixels wide and `height` pixels tall and return the average image color of that box.\n",
    "\n",
    "- Example: `findAverageImageColorInBox(image, x=0, y=0, width=3, height=3)` must return the average colors of the pixels that have (`x=0` to `x=2`) and (`y=0` or `y=2`) since we start at `x=0`/`y=0` and need three pixels.\n",
    "\n",
    "- Example: `findAverageImageColorInBox(image, x=5, y=5, width=5, height=5)` must return the average colors of the pixels that have (`x=5` to `x=9`) and (`y=5` to `y=9`) since we start at `x=5`/`y=5` and need five pixels.\n",
    "\n",
    "- Example: `findAverageImageColorInBox(image, x=5, y=0, width=5, height=5)` must return the average colors of the pixels that have (`x=5` to `x=9`) and (`y=0` to `y=4`) since we start at `x=5` but `y=0`.\n",
    "\n",
    "***HINT**: This can be a small modification on `findAverageImageColor` and there's a lot of ways to approach it!  Just like `findAverageImageColor`, you must return the **average color as a dictionary** with the values:\n",
    "- `avg_r`, for the average red color,\n",
    "- `avg_g`, for the average green color,\n",
    "- `avg_b`, for the average blue color"
   ]
  },
  {
   "cell_type": "code",
   "execution_count": 21,
   "metadata": {},
   "outputs": [],
   "source": [
    "def findAverageImageColorInBox(image, box_x, box_y, box_width, box_height):\n",
    "  r = 0\n",
    "  g = 0\n",
    "  b = 0\n",
    "\n",
    "\n",
    "  width = box_x + box_width\n",
    "  height = box_y + box_height\n",
    "\n",
    "  for x in range(box_x, width):\n",
    "    for y in range(box_y, height):\n",
    "\n",
    "      r += image[x][y][0]\n",
    "      g += image[x][y][1]\n",
    "      b += image[x][y][2]\n",
    "\n",
    "  avg_r = r/(box_width * box_height)\n",
    "  avg_b = b/(box_width * box_height)\n",
    "  avg_g = g/(box_width * box_height)\n",
    "\n",
    "  d = {\"avg_r\":avg_r, \"avg_g\":avg_g, \"avg_b\":avg_b }\n",
    "\n",
    "  return d"
   ]
  },
  {
   "cell_type": "code",
   "execution_count": 22,
   "metadata": {},
   "outputs": [
    {
     "name": "stdout",
     "output_type": "stream",
     "text": [
      "✅ Test case with box_x = 0, box_y = 0, box_width = 2, box_height=2 found returned the correct average color.\n",
      "✅ Test case with box_x = 2, box_y = 0, box_width = 2, box_height=2 found returned the correct average color.\n",
      "✅ Test case with box_x = 2, box_y = 2, box_width = 2, box_height=2 found returned the correct average color.\n",
      "✅ Test case with box_x = 5, box_y = 1, box_width = 2, box_height=2 found returned the correct average color.\n",
      "✅ Test case with box_x = 5, box_y = 1, box_width = 4, box_height=2 found returned the correct average color.\n",
      "✅ Test case with box_x = 5, box_y = 1, box_width = 4, box_height=3 found returned the correct average color.\n",
      "🎉 All tests passed! 🎉\n"
     ]
    }
   ],
   "source": [
    "# == TEST CASE for Section 6 ==\n",
    "# - Checks to ensure the DataFrame contains the correct variables and pixel data\n",
    "DISCOVERY.run_test_case_6(findAverageImageColorInBox)"
   ]
  },
  {
   "cell_type": "markdown",
   "metadata": {},
   "source": [
    "<hr>"
   ]
  },
  {
   "cell_type": "markdown",
   "metadata": {},
   "source": [
    "# Section 7: Finding the Best Match\n",
    "\n",
    "There's just **one last function**:\n",
    "- You have a DataFrame of all our tile images averages (`df_tiles`),\n",
    "- You can find a subset of a region of your image with your `findImageDataFrameSubset` function, **AND**\n",
    "- You can find `avg_r`, `avg_g`, and `avg_b` for every region of your image with your `findAverageColor` function.\n",
    "\n",
    "Your final function, `findBestTile`, needs to **find the best tile image from `df_tiles` for a given average color**.  You should do this by finding the row in `df_tiles` that has the smallest distance from the average color.\n",
    "\n",
    "## Example \n",
    "\n",
    "Consider three simple tile images:\n",
    "\n",
    "1. A red tile image with a color of (255, 0, 0)\n",
    "2. A green tile image with a color of (0, 255, 0)\n",
    "3. A blue tile image with a color of (0, 0, 255)\n",
    "\n",
    "If your image region has `avg_r` = 10, `avg_g` = 200, and `avg_b` = 20, the distance formula tells us:\n",
    "\n",
    "1. For the red tile (255, 0, 0), the distance away is $d = \\sqrt{(255 - 10)^2 + (0 - 200)^2  + (0 - 20)^2} = 316.8990375$\n",
    "2. For the green tile (0, 255, 0), the distance away is $d = \\sqrt{(0 - 10)^2 + (255 - 200)^2  + (0 - 20)^2} = 59.37171044$\n",
    "3. For the blue tile (0, 0, 255), the distance away is $d = \\sqrt{(0 - 10)^2 + (0 - 200)^2  + (255 - 20)^2} = 308.7474696$\n",
    "\n",
    "We find that the green tile is the closest since it has the minimum distance.  The green tile should be returned.\n",
    "\n",
    "\n",
    "## Hints\n",
    "\n",
    "- If you need to remember the format of `df_tiles`, you can find that in Section 5.\n",
    "- You should add an extra value `df[\"dist\"] = ...` to your DataFrame.\n",
    "- Once you have the distance calculated, how do you return just the smallest row?"
   ]
  },
  {
   "cell_type": "code",
   "execution_count": 23,
   "metadata": {},
   "outputs": [],
   "source": [
    "# Returns a single row for the title that is the best match given an r_avg, g_avg, and b_avg\n",
    "def findBestTile(df_tiles, r_avg, g_avg, b_avg):\n",
    "  df_tiles[\"dist\"] = ((   df_tiles.r - r_avg)**2 + (df_tiles.g - g_avg)**2 + (df_tiles.b - b_avg)**2)**(1/2)\n",
    "  \n",
    "  return df_tiles.nsmallest(1,\"dist\")"
   ]
  },
  {
   "cell_type": "code",
   "execution_count": 24,
   "metadata": {},
   "outputs": [
    {
     "name": "stdout",
     "output_type": "stream",
     "text": [
      "✅ Test case #1 (r=0, g=0, b=0) passed!\n",
      "✅ Test case #1 (r=47, g=49, b=38) passed!\n",
      "✅ Test case #1 (r=54, g=49, b=38) passed!\n",
      "✅ Test case #1 (r=54, g=49, b=52) passed!\n",
      "✅ Test case #1 (r=-100, g=-100, b=-100) passed!\n",
      "🎉 All tests passed! 🎉\n"
     ]
    }
   ],
   "source": [
    "import DISCOVERY\n",
    "# == TEST CASE for Section 7 ==\n",
    "# - Checks to ensure the DataFrame contains the correct variables and pixel data\n",
    "DISCOVERY.run_test_case_7(findBestTile)"
   ]
  },
  {
   "cell_type": "markdown",
   "metadata": {},
   "source": [
    "<hr>"
   ]
  },
  {
   "cell_type": "markdown",
   "metadata": {},
   "source": [
    "# Section 8: Your Mosaic!\n",
    "\n",
    "Time to put everything together!\n",
    "\n",
    "First, let's define some variables that you can configure to make your mosaic uniquely yours:"
   ]
  },
  {
   "cell_type": "code",
   "execution_count": 29,
   "metadata": {},
   "outputs": [],
   "source": [
    "import sys\n",
    "# What is your base image file name?\n",
    "baseImageFileName = \"BountyHunters.jpg\"\n",
    "\n",
    "# What folder contains your tile images?\n",
    "# - You can change this so you can have multiple different folders of tile images.\n",
    "tileImageFolder = \"tiles\"\n",
    "\n",
    "# What is the maximum number of tiles should your mosaic use across?\n",
    "# - More tiles across will increase the quality of the final image.\n",
    "# - More tiles across will cause your program to run slower.\n",
    "# ...if you have bugs, start this value slow (it won't look great, but it will make it run fast!)\n",
    "# ...a value around 200 usually looks quite good, but play around with this number!\n",
    "maximumTilesX = 300\n",
    "\n",
    "# What height should your tiles be in your mosaic?\n",
    "# - A larger tile image will result in a larger output file.\n",
    "# - A larger tile image will result in your program running slower.\n",
    "# - A larger tile image will result in more detail in the output file.\n",
    "tileHeight = 24"
   ]
  },
  {
   "cell_type": "markdown",
   "metadata": {},
   "source": [
    "## Now create your mosaic!\n",
    "\n",
    "Run the code to create your mosaic.\n",
    "\n",
    "- This **WILL** take a bit of time (even more time on slower/older laptops).\n",
    "- This will run fastest if your laptop is plugged in (when it's unplugged, your laptop will try and save power and may not run at full speed)."
   ]
  },
  {
   "cell_type": "code",
   "execution_count": 30,
   "metadata": {},
   "outputs": [
    {
     "name": "stdout",
     "output_type": "stream",
     "text": [
      "Creating `df_tiles` from tile images in folder `tiles`...\n",
      "...found 32 tile images!\n"
     ]
    },
    {
     "data": {
      "text/html": [
       "<div>\n",
       "<style scoped>\n",
       "    .dataframe tbody tr th:only-of-type {\n",
       "        vertical-align: middle;\n",
       "    }\n",
       "\n",
       "    .dataframe tbody tr th {\n",
       "        vertical-align: top;\n",
       "    }\n",
       "\n",
       "    .dataframe thead th {\n",
       "        text-align: right;\n",
       "    }\n",
       "</style>\n",
       "<table border=\"1\" class=\"dataframe\">\n",
       "  <thead>\n",
       "    <tr style=\"text-align: right;\">\n",
       "      <th></th>\n",
       "      <th>fileName</th>\n",
       "      <th>r</th>\n",
       "      <th>g</th>\n",
       "      <th>b</th>\n",
       "    </tr>\n",
       "  </thead>\n",
       "  <tbody>\n",
       "    <tr>\n",
       "      <th>0</th>\n",
       "      <td>tiles/2.jpg</td>\n",
       "      <td>93.842371</td>\n",
       "      <td>67.481386</td>\n",
       "      <td>57.677676</td>\n",
       "    </tr>\n",
       "    <tr>\n",
       "      <th>1</th>\n",
       "      <td>tiles/4.jpg</td>\n",
       "      <td>122.090929</td>\n",
       "      <td>81.200693</td>\n",
       "      <td>132.149535</td>\n",
       "    </tr>\n",
       "    <tr>\n",
       "      <th>2</th>\n",
       "      <td>tiles/bane.jpg</td>\n",
       "      <td>23.123889</td>\n",
       "      <td>28.187778</td>\n",
       "      <td>41.947798</td>\n",
       "    </tr>\n",
       "    <tr>\n",
       "      <th>3</th>\n",
       "      <td>tiles/blue1.jpg</td>\n",
       "      <td>67.703460</td>\n",
       "      <td>172.666235</td>\n",
       "      <td>239.288117</td>\n",
       "    </tr>\n",
       "    <tr>\n",
       "      <th>4</th>\n",
       "      <td>tiles/blue2.png</td>\n",
       "      <td>0.000000</td>\n",
       "      <td>127.000000</td>\n",
       "      <td>255.000000</td>\n",
       "    </tr>\n",
       "    <tr>\n",
       "      <th>5</th>\n",
       "      <td>tiles/bookofboba.jpg</td>\n",
       "      <td>123.565972</td>\n",
       "      <td>71.700754</td>\n",
       "      <td>21.031409</td>\n",
       "    </tr>\n",
       "    <tr>\n",
       "      <th>6</th>\n",
       "      <td>tiles/c3po.jpg</td>\n",
       "      <td>101.287639</td>\n",
       "      <td>89.503651</td>\n",
       "      <td>29.506528</td>\n",
       "    </tr>\n",
       "    <tr>\n",
       "      <th>7</th>\n",
       "      <td>tiles/cockpit.jpg</td>\n",
       "      <td>88.238009</td>\n",
       "      <td>79.061478</td>\n",
       "      <td>79.550511</td>\n",
       "    </tr>\n",
       "    <tr>\n",
       "      <th>8</th>\n",
       "      <td>tiles/droids.jpg</td>\n",
       "      <td>204.247211</td>\n",
       "      <td>195.919525</td>\n",
       "      <td>185.731546</td>\n",
       "    </tr>\n",
       "    <tr>\n",
       "      <th>9</th>\n",
       "      <td>tiles/fett.jpg</td>\n",
       "      <td>47.314623</td>\n",
       "      <td>37.328532</td>\n",
       "      <td>23.695873</td>\n",
       "    </tr>\n",
       "    <tr>\n",
       "      <th>10</th>\n",
       "      <td>tiles/fett2.jpg</td>\n",
       "      <td>38.314193</td>\n",
       "      <td>50.497304</td>\n",
       "      <td>56.968691</td>\n",
       "    </tr>\n",
       "    <tr>\n",
       "      <th>11</th>\n",
       "      <td>tiles/fight.jpg</td>\n",
       "      <td>61.786929</td>\n",
       "      <td>92.757366</td>\n",
       "      <td>137.476230</td>\n",
       "    </tr>\n",
       "    <tr>\n",
       "      <th>12</th>\n",
       "      <td>tiles/fight2.jpg</td>\n",
       "      <td>75.874921</td>\n",
       "      <td>100.453036</td>\n",
       "      <td>115.211429</td>\n",
       "    </tr>\n",
       "    <tr>\n",
       "      <th>13</th>\n",
       "      <td>tiles/fire.jpg</td>\n",
       "      <td>224.133234</td>\n",
       "      <td>196.964484</td>\n",
       "      <td>75.590913</td>\n",
       "    </tr>\n",
       "    <tr>\n",
       "      <th>14</th>\n",
       "      <td>tiles/green.jpg</td>\n",
       "      <td>45.673527</td>\n",
       "      <td>125.971419</td>\n",
       "      <td>83.174222</td>\n",
       "    </tr>\n",
       "    <tr>\n",
       "      <th>15</th>\n",
       "      <td>tiles/grogu.jpg</td>\n",
       "      <td>61.303839</td>\n",
       "      <td>104.240926</td>\n",
       "      <td>66.713814</td>\n",
       "    </tr>\n",
       "    <tr>\n",
       "      <th>16</th>\n",
       "      <td>tiles/grogu2.jpg</td>\n",
       "      <td>111.992040</td>\n",
       "      <td>103.313363</td>\n",
       "      <td>87.012188</td>\n",
       "    </tr>\n",
       "    <tr>\n",
       "      <th>17</th>\n",
       "      <td>tiles/hyper.jpg</td>\n",
       "      <td>58.732639</td>\n",
       "      <td>76.970655</td>\n",
       "      <td>100.073175</td>\n",
       "    </tr>\n",
       "    <tr>\n",
       "      <th>18</th>\n",
       "      <td>tiles/lego.jpg</td>\n",
       "      <td>148.508872</td>\n",
       "      <td>144.997062</td>\n",
       "      <td>145.098646</td>\n",
       "    </tr>\n",
       "    <tr>\n",
       "      <th>19</th>\n",
       "      <td>tiles/logo.jpg</td>\n",
       "      <td>83.798575</td>\n",
       "      <td>79.765647</td>\n",
       "      <td>90.862538</td>\n",
       "    </tr>\n",
       "    <tr>\n",
       "      <th>20</th>\n",
       "      <td>tiles/mace.jpg</td>\n",
       "      <td>77.943333</td>\n",
       "      <td>38.840360</td>\n",
       "      <td>56.175737</td>\n",
       "    </tr>\n",
       "    <tr>\n",
       "      <th>21</th>\n",
       "      <td>tiles/mando.jpg</td>\n",
       "      <td>80.409048</td>\n",
       "      <td>71.147242</td>\n",
       "      <td>64.865714</td>\n",
       "    </tr>\n",
       "    <tr>\n",
       "      <th>22</th>\n",
       "      <td>tiles/maul.jpg</td>\n",
       "      <td>111.641587</td>\n",
       "      <td>40.930675</td>\n",
       "      <td>50.284563</td>\n",
       "    </tr>\n",
       "    <tr>\n",
       "      <th>23</th>\n",
       "      <td>tiles/orange.jpg</td>\n",
       "      <td>180.939839</td>\n",
       "      <td>103.643049</td>\n",
       "      <td>31.136758</td>\n",
       "    </tr>\n",
       "    <tr>\n",
       "      <th>24</th>\n",
       "      <td>tiles/sib.jpg</td>\n",
       "      <td>79.013631</td>\n",
       "      <td>78.314425</td>\n",
       "      <td>76.194683</td>\n",
       "    </tr>\n",
       "    <tr>\n",
       "      <th>25</th>\n",
       "      <td>tiles/star.jpg</td>\n",
       "      <td>23.927337</td>\n",
       "      <td>52.356227</td>\n",
       "      <td>85.551760</td>\n",
       "    </tr>\n",
       "    <tr>\n",
       "      <th>26</th>\n",
       "      <td>tiles/star.png</td>\n",
       "      <td>11.333353</td>\n",
       "      <td>10.372405</td>\n",
       "      <td>1.232198</td>\n",
       "    </tr>\n",
       "    <tr>\n",
       "      <th>27</th>\n",
       "      <td>tiles/Star2.jpg</td>\n",
       "      <td>83.224405</td>\n",
       "      <td>74.001409</td>\n",
       "      <td>80.179861</td>\n",
       "    </tr>\n",
       "    <tr>\n",
       "      <th>28</th>\n",
       "      <td>tiles/troop.jpg</td>\n",
       "      <td>238.403639</td>\n",
       "      <td>235.540647</td>\n",
       "      <td>232.522096</td>\n",
       "    </tr>\n",
       "    <tr>\n",
       "      <th>29</th>\n",
       "      <td>tiles/trooper.jpg</td>\n",
       "      <td>160.917224</td>\n",
       "      <td>160.598194</td>\n",
       "      <td>164.804388</td>\n",
       "    </tr>\n",
       "    <tr>\n",
       "      <th>30</th>\n",
       "      <td>tiles/vader.jpg</td>\n",
       "      <td>54.410054</td>\n",
       "      <td>51.997393</td>\n",
       "      <td>57.162291</td>\n",
       "    </tr>\n",
       "    <tr>\n",
       "      <th>31</th>\n",
       "      <td>tiles/vaderscene.jpg</td>\n",
       "      <td>61.641867</td>\n",
       "      <td>7.205801</td>\n",
       "      <td>7.830645</td>\n",
       "    </tr>\n",
       "  </tbody>\n",
       "</table>\n",
       "</div>"
      ],
      "text/plain": [
       "                fileName           r           g           b\n",
       "0            tiles/2.jpg   93.842371   67.481386   57.677676\n",
       "1            tiles/4.jpg  122.090929   81.200693  132.149535\n",
       "2         tiles/bane.jpg   23.123889   28.187778   41.947798\n",
       "3        tiles/blue1.jpg   67.703460  172.666235  239.288117\n",
       "4        tiles/blue2.png    0.000000  127.000000  255.000000\n",
       "5   tiles/bookofboba.jpg  123.565972   71.700754   21.031409\n",
       "6         tiles/c3po.jpg  101.287639   89.503651   29.506528\n",
       "7      tiles/cockpit.jpg   88.238009   79.061478   79.550511\n",
       "8       tiles/droids.jpg  204.247211  195.919525  185.731546\n",
       "9         tiles/fett.jpg   47.314623   37.328532   23.695873\n",
       "10       tiles/fett2.jpg   38.314193   50.497304   56.968691\n",
       "11       tiles/fight.jpg   61.786929   92.757366  137.476230\n",
       "12      tiles/fight2.jpg   75.874921  100.453036  115.211429\n",
       "13        tiles/fire.jpg  224.133234  196.964484   75.590913\n",
       "14       tiles/green.jpg   45.673527  125.971419   83.174222\n",
       "15       tiles/grogu.jpg   61.303839  104.240926   66.713814\n",
       "16      tiles/grogu2.jpg  111.992040  103.313363   87.012188\n",
       "17       tiles/hyper.jpg   58.732639   76.970655  100.073175\n",
       "18        tiles/lego.jpg  148.508872  144.997062  145.098646\n",
       "19        tiles/logo.jpg   83.798575   79.765647   90.862538\n",
       "20        tiles/mace.jpg   77.943333   38.840360   56.175737\n",
       "21       tiles/mando.jpg   80.409048   71.147242   64.865714\n",
       "22        tiles/maul.jpg  111.641587   40.930675   50.284563\n",
       "23      tiles/orange.jpg  180.939839  103.643049   31.136758\n",
       "24         tiles/sib.jpg   79.013631   78.314425   76.194683\n",
       "25        tiles/star.jpg   23.927337   52.356227   85.551760\n",
       "26        tiles/star.png   11.333353   10.372405    1.232198\n",
       "27       tiles/Star2.jpg   83.224405   74.001409   80.179861\n",
       "28       tiles/troop.jpg  238.403639  235.540647  232.522096\n",
       "29     tiles/trooper.jpg  160.917224  160.598194  164.804388\n",
       "30       tiles/vader.jpg   54.410054   51.997393   57.162291\n",
       "31  tiles/vaderscene.jpg   61.641867    7.205801    7.830645"
      ]
     },
     "execution_count": 30,
     "metadata": {},
     "output_type": "execute_result"
    }
   ],
   "source": [
    "print(f\"Creating `df_tiles` from tile images in folder `{tileImageFolder}`...\")\n",
    "df_tiles = createTilesDataFrame(tileImageFolder)\n",
    "print(f\"...found {len(df_tiles)} tile images!\")\n",
    "df_tiles"
   ]
  },
  {
   "cell_type": "code",
   "execution_count": 31,
   "metadata": {},
   "outputs": [
    {
     "name": "stdout",
     "output_type": "stream",
     "text": [
      "Loading your base image `BountyHunters.jpg`...\n",
      "Finding best replacement image for each tile...\n",
      "  ...progress: 63300 / 63300 (100.00%)\n",
      "\n",
      "🎉 MOSAIC COMPLETE! 🎉\n",
      "- See `mosaic-hq.jpg` to see your HQ moasic! (The file may be HUGE.)\n",
      "- See `mosaic.jpg` to see a moasic best suited for the web (still big, but not HUGE)!\n"
     ]
    }
   ],
   "source": [
    "print(f\"Loading your base image `{baseImageFileName}`...\")\n",
    "baseImage = DISCOVERY.loadImage(baseImageFileName)\n",
    "width = len(baseImage)\n",
    "height = len(baseImage[0])\n",
    "\n",
    "\n",
    "print(f\"Finding best replacement image for each tile...\")\n",
    "# Find the pixelsPerTile to know the pixels used in the base image per mosaic tile:\n",
    "import math\n",
    "\n",
    "pixelsPerTile = int(math.ceil(width / maximumTilesX))\n",
    "width = int(math.floor(width / pixelsPerTile) * pixelsPerTile)\n",
    "height = int(math.floor(height / pixelsPerTile) * pixelsPerTile)\n",
    "tilesX = int(width / pixelsPerTile)\n",
    "tilesY = int(height / pixelsPerTile)\n",
    "\n",
    "# Create the mosaic:\n",
    "from PIL import Image\n",
    "mosaic = Image.new('RGB', (int(tilesX * tileHeight), int(tilesY * tileHeight)))\n",
    "for x in range(0, width, pixelsPerTile):\n",
    "  for y in range(0, height, pixelsPerTile):\n",
    "    avg_color = findAverageImageColorInBox(baseImage, x, y, pixelsPerTile, pixelsPerTile)\n",
    "    replacement = findBestTile(df_tiles, avg_color[\"avg_r\"], avg_color[\"avg_g\"], avg_color[\"avg_b\"])\n",
    "\n",
    "    tile = DISCOVERY.getTileImage(replacement[\"fileName\"].values[0], tileHeight)\n",
    "    mosaic.paste(tile, (int(x / pixelsPerTile) * tileHeight, int(y / pixelsPerTile) * tileHeight))\n",
    "\n",
    "  # Print out a progress message:\n",
    "  curRow = int((x / pixelsPerTile) + 1)\n",
    "  pct = (curRow / tilesX) * 100\n",
    "  sys.stdout.write(f'\\r  ...progress: {curRow * tilesY} / {tilesX * tilesY} ({pct:.2f}%)')\n",
    "\n",
    "# Save it\n",
    "mosaic.save('mosaic-hd.jpg')\n",
    "\n",
    "# Save a smaller one (for posting):\n",
    "import PIL\n",
    "d = max(width, height)\n",
    "factor = d / 4000\n",
    "if factor <= 1: factor = 1\n",
    "\n",
    "small_w = width / factor\n",
    "small_h = height / factor    \n",
    "baseImage = mosaic.resize( (int(small_w), int(small_h)), resample=PIL.Image.LANCZOS )\n",
    "baseImage.save('mosaic-web.jpg')\n",
    "\n",
    "# Print a message:\n",
    "tada = \"\\N{PARTY POPPER}\"\n",
    "print(\"\")\n",
    "print(\"\")\n",
    "print(f\"{tada} MOSAIC COMPLETE! {tada}\")\n",
    "print(\"- See `mosaic-hq.jpg` to see your HQ moasic! (The file may be HUGE.)\")\n",
    "print(\"- See `mosaic.jpg` to see a moasic best suited for the web (still big, but not HUGE)!\")"
   ]
  },
  {
   "cell_type": "markdown",
   "metadata": {},
   "source": [
    "<hr>"
   ]
  },
  {
   "cell_type": "markdown",
   "metadata": {},
   "source": [
    "# Section 9: Extra Credit\n",
    "\n",
    "So your mosaic is fantastic -- but I think you can make it can be **even MORE fantastic**!  If you have ideas of how to improve your mosaic, use the following cells to re-program a function or otherwise change your logic and then re-create your mosaic.\n",
    "\n",
    "If you're not sure and want some inspiration, visit **#project-extra-credit**.  We'll work together on ideas -- after the first week, we will share some of our ideas.  Be sure to look at the **pinned messages** on the channel for suggestions that we find to be really good ways of improving the mosaic!  (We have a few in mind as we write this, but there's probably even more!  You should aim to have fun!)"
   ]
  },
  {
   "cell_type": "code",
   "execution_count": 28,
   "metadata": {},
   "outputs": [],
   "source": [
    "# Use these cells to add your extra credit code.\n",
    "# ...and feel free to add more cells! :)"
   ]
  },
  {
   "cell_type": "markdown",
   "metadata": {},
   "source": [
    "<hr>\n"
   ]
  },
  {
   "cell_type": "markdown",
   "metadata": {},
   "source": [
    "# Section 10: Submission\n",
    "\n",
    "We would love you to share your mosaic!  It's not required, but we have discord channel `#project-showcase` just to show off your mosaic -- add yours there and check out others!\n",
    "\n",
    "It is required to turn in your project, which you can do with the usual commands:\n",
    "\n",
    "```\n",
    "git add -A\n",
    "git commit -m \"project1\"\n",
    "git push\n",
    "```"
   ]
  },
  {
   "cell_type": "code",
   "execution_count": null,
   "metadata": {},
   "outputs": [],
   "source": []
  }
 ],
 "metadata": {
  "interpreter": {
   "hash": "63fd5069d213b44bf678585dea6b12cceca9941eaf7f819626cde1f2670de90d"
  },
  "kernelspec": {
   "display_name": "Python 3.9.0 64-bit",
   "name": "python3"
  },
  "language_info": {
   "codemirror_mode": {
    "name": "ipython",
    "version": 3
   },
   "file_extension": ".py",
   "mimetype": "text/x-python",
   "name": "python",
   "nbconvert_exporter": "python",
   "pygments_lexer": "ipython3",
   "version": "3.8.3"
  },
  "orig_nbformat": 4
 },
 "nbformat": 4,
 "nbformat_minor": 2
}
